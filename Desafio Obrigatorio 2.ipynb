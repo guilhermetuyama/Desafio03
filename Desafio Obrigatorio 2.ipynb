{
 "cells": [
  {
   "cell_type": "markdown",
   "metadata": {},
   "source": [
    "*Para essa entrega focaremos somente nas etapas de:* \n",
    "\n",
    "Escolher uma API da lista disponível; \n",
    "Fazer a extração de pelo menos 3 tabelas;\n",
    "Criar um alerta de erro usando a função alerta() do desafio da aula Fundamentos de programação III.\n",
    "\n",
    "Formato\n",
    "O entregável é um link do GitHub para um arquivo .py ou .ipynb com a resolução proposta.\n",
    "Utilize o mesmo repositório criado na aula de GIT. \n",
    "\n",
    "*Observações:*\n",
    "\n",
    "Não é necessário fazer tratamentos das tabelas, salvar no banco de dados ou documentação nesta etapa do projeto."
   ]
  },
  {
   "cell_type": "code",
   "execution_count": 2,
   "metadata": {},
   "outputs": [
    {
     "data": {
      "text/html": [
       "<div>\n",
       "<style scoped>\n",
       "    .dataframe tbody tr th:only-of-type {\n",
       "        vertical-align: middle;\n",
       "    }\n",
       "\n",
       "    .dataframe tbody tr th {\n",
       "        vertical-align: top;\n",
       "    }\n",
       "\n",
       "    .dataframe thead th {\n",
       "        text-align: right;\n",
       "    }\n",
       "</style>\n",
       "<table border=\"1\" class=\"dataframe\">\n",
       "  <thead>\n",
       "    <tr style=\"text-align: right;\">\n",
       "      <th></th>\n",
       "      <th>Nome</th>\n",
       "      <th>Geração</th>\n",
       "      <th>Efeitos</th>\n",
       "    </tr>\n",
       "  </thead>\n",
       "  <tbody>\n",
       "    <tr>\n",
       "      <th>0</th>\n",
       "      <td>battle-armor</td>\n",
       "      <td>generation-iii</td>\n",
       "      <td>Attacken können keinen kritischen Treffer land...</td>\n",
       "    </tr>\n",
       "  </tbody>\n",
       "</table>\n",
       "</div>"
      ],
      "text/plain": [
       "           Nome         Geração  \\\n",
       "0  battle-armor  generation-iii   \n",
       "\n",
       "                                             Efeitos  \n",
       "0  Attacken können keinen kritischen Treffer land...  "
      ]
     },
     "execution_count": 2,
     "metadata": {},
     "output_type": "execute_result"
    }
   ],
   "source": [
    "import requests\n",
    "import pandas as pd\n",
    "from plyer import notification\n",
    "\n",
    "#REALIZEI A IMPORTAÇÃO DE DUAS TABELAS DIFERENTES SENDO A SEGUNDA TABELA A MAIS TRABALHADA\n",
    "def alerta(titulo, mensagem):\n",
    "    notification.notify(\n",
    "        title=titulo,\n",
    "        message=mensagem,\n",
    "        app_name='Exemplo 1',\n",
    "        timeout=10\n",
    "    )\n",
    "\n",
    "url1 = 'https://pokeapi.co/api/v2/ability/battle-armor'\n",
    "resposta1 = requests.get(url1)\n",
    "\n",
    "\n",
    "if resposta1.status_code == 200:\n",
    "    data_json1 = resposta1.json()\n",
    "    \n",
    "    nome = data_json1['name']\n",
    "    geracao = data_json1['generation']['name']\n",
    "    efeitos = data_json1['effect_entries'][0]['effect']\n",
    "    \n",
    "    pokemon_df1 = pd.DataFrame({'Nome': [nome], 'Geração': [geracao], 'Efeitos': [efeitos]})\n",
    "    \n",
    "else:\n",
    "    alerta(\"Erro ao acessar a API\", \"Ocorreu um erro ao acessar a API\")\n",
    "\n",
    "pokemon_df1"
   ]
  },
  {
   "cell_type": "code",
   "execution_count": 1,
   "metadata": {},
   "outputs": [
    {
     "name": "stderr",
     "output_type": "stream",
     "text": [
      "C:\\Users\\guitu\\AppData\\Local\\Temp\\ipykernel_20700\\3871592747.py:2: DeprecationWarning: \n",
      "Pyarrow will become a required dependency of pandas in the next major release of pandas (pandas 3.0),\n",
      "(to allow more performant data types, such as the Arrow string type, and better interoperability with other libraries)\n",
      "but was not found to be installed on your system.\n",
      "If this would cause problems for you,\n",
      "please provide us feedback at https://github.com/pandas-dev/pandas/issues/54466\n",
      "        \n",
      "  import pandas as pd\n"
     ]
    },
    {
     "name": "stdout",
     "output_type": "stream",
     "text": [
      "   Nome Pokemon                          Habilidades      Tipo Pokemon\n",
      "0     bulbasaur              [overgrow, chlorophyll]   [grass, poison]\n",
      "1       ivysaur              [overgrow, chlorophyll]   [grass, poison]\n",
      "2      venusaur              [overgrow, chlorophyll]   [grass, poison]\n",
      "3    charmander                 [blaze, solar-power]            [fire]\n",
      "4    charmeleon                 [blaze, solar-power]            [fire]\n",
      "5     charizard                 [blaze, solar-power]    [fire, flying]\n",
      "6      squirtle                 [torrent, rain-dish]           [water]\n",
      "7     wartortle                 [torrent, rain-dish]           [water]\n",
      "8     blastoise                 [torrent, rain-dish]           [water]\n",
      "9      caterpie              [shield-dust, run-away]             [bug]\n",
      "10      metapod                          [shed-skin]             [bug]\n",
      "11   butterfree         [compound-eyes, tinted-lens]     [bug, flying]\n",
      "12       weedle              [shield-dust, run-away]     [bug, poison]\n",
      "13       kakuna                          [shed-skin]     [bug, poison]\n",
      "14     beedrill                      [swarm, sniper]     [bug, poison]\n",
      "15       pidgey  [keen-eye, tangled-feet, big-pecks]  [normal, flying]\n",
      "16    pidgeotto  [keen-eye, tangled-feet, big-pecks]  [normal, flying]\n",
      "17      pidgeot  [keen-eye, tangled-feet, big-pecks]  [normal, flying]\n",
      "18      rattata             [run-away, guts, hustle]          [normal]\n",
      "19     raticate             [run-away, guts, hustle]          [normal]\n"
     ]
    }
   ],
   "source": [
    "import requests\n",
    "import pandas as pd\n",
    "from plyer import notification\n",
    "\n",
    "def alerta(titulo, mensagem):\n",
    "    notification.notify(\n",
    "        title=titulo,\n",
    "        message=mensagem,\n",
    "        app_name='Exemplo 1',\n",
    "        timeout=10\n",
    "    )\n",
    "\n",
    "url = 'https://pokeapi.co/api/v2/pokemon'\n",
    "response = requests.get(url)\n",
    "\n",
    "pokemon_data = []  \n",
    "\n",
    "if response.status_code == 200:\n",
    "    data = response.json()\n",
    "    for pokemon in data['results']:\n",
    "        pokemon_name = pokemon['name']\n",
    "        pokemon_url = pokemon['url']\n",
    "        pokemon_details = requests.get(pokemon_url).json()  \n",
    "        abilities = [ability['ability']['name'] for ability in pokemon_details['abilities']]\n",
    "        types = [poke_type['type']['name'] for poke_type in pokemon_details['types']]\n",
    "        pokemon_data.append({'Nome Pokemon': pokemon_name, 'Habilidades': abilities,'Tipo Pokemon' : types})  \n",
    "\n",
    "    pokemon_df = pd.DataFrame(pokemon_data)  \n",
    "        \n",
    "else:\n",
    "    alerta(\"Erro ao acessar a API\", \"Ocorreu um erro ao acessar a API\")\n",
    "    \n",
    "print(pokemon_df)"
   ]
  },
  {
   "cell_type": "code",
   "execution_count": null,
   "metadata": {},
   "outputs": [],
   "source": []
  }
 ],
 "metadata": {
  "kernelspec": {
   "display_name": "Python 3",
   "language": "python",
   "name": "python3"
  },
  "language_info": {
   "codemirror_mode": {
    "name": "ipython",
    "version": 3
   },
   "file_extension": ".py",
   "mimetype": "text/x-python",
   "name": "python",
   "nbconvert_exporter": "python",
   "pygments_lexer": "ipython3",
   "version": "3.12.1"
  }
 },
 "nbformat": 4,
 "nbformat_minor": 2
}
